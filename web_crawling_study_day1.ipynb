{
  "nbformat": 4,
  "nbformat_minor": 0,
  "metadata": {
    "colab": {
      "name": "web_crawling_study_day1.ipynb",
      "provenance": [],
      "collapsed_sections": [],
      "authorship_tag": "ABX9TyPGMO/CGogau9GRZpg9dYA9",
      "include_colab_link": true
    },
    "kernelspec": {
      "name": "python3",
      "display_name": "Python 3"
    },
    "language_info": {
      "name": "python"
    }
  },
  "cells": [
    {
      "cell_type": "markdown",
      "metadata": {
        "id": "view-in-github",
        "colab_type": "text"
      },
      "source": [
        "<a href=\"https://colab.research.google.com/github/jiujitsuhyeon/kitty/blob/main/web_crawling_study_day1.ipynb\" target=\"_parent\"><img src=\"https://colab.research.google.com/assets/colab-badge.svg\" alt=\"Open In Colab\"/></a>"
      ]
    },
    {
      "cell_type": "code",
      "metadata": {
        "id": "Q6QMS_tr8Flw"
      },
      "source": [
        "import requests\n",
        "\n",
        "headers = {'User-Agent' : 'Mozilla/5.0 (Windows NT 10.0; Win64; x64) AppleWebKit/537.36 (KHTML, like Gecko) Chrome/91.0.4472.77 Safari/537.36'}\n",
        "\n",
        "html_doc = \"\"\"<html><head><title>The Dormouse's story</title></head>\n",
        "<body>\n",
        "<p class=\"title\"><b>The Dormouse's story</b></p>\n",
        "\n",
        "<p class=\"story\">Once upon a time there were three little sisters; and their names were\n",
        "<a href=\"http://example.com/elsie\" class=\"sister\" id=\"link1\">Elsie</a>,\n",
        "<a href=\"http://example.com/lacie\" class=\"sister\" id=\"link2\">Lacie</a> and\n",
        "<a href=\"http://example.com/tillie\" class=\"sister\" id=\"link3\">Tillie</a>;\n",
        "and they lived at the bottom of a well.</p>\n",
        "\n",
        "<p class=\"story\">...</p>\"\"\"\n",
        "\n",
        "# <p></p> 에 있는 정보 다 보려면  soup.p\n",
        "# soup.find('p') 내가 원하는 태그(p)담음 : 제일 처음 나오는 태그의 모든 것 불러옴\n",
        "\n",
        "# a class href 주소만 가지고 오고 싶을 때 : soup.a['href'] __ 속성 이름 들고온 것\n",
        "# soup.find('a')['href']\n",
        "\n",
        "# href 속성에 들어있는 모든 값 가져오고 싶을 때\n",
        "# soup.find_all('a')  : find_all(), 결과물 리스트 타입으로 가져옴!\n",
        "# soup.find('a')\n",
        "\n",
        "# soup.find 찾아온 결과물 텍스트만 가져오고 싶을 때\n",
        "# soup.find('a').text\n",
        "\n",
        "# soup.find_all('a')은 .text불가능\n",
        "# a_list = soup.find_all('a')\n",
        "# for i in a_list:\n",
        "#     print(i.text)     # find_all로 가져온 정보는 반복문을 통해 하나씩 가져올 수 있다. \n"
      ],
      "execution_count": null,
      "outputs": []
    },
    {
      "cell_type": "code",
      "metadata": {
        "id": "0RPR_MHp-VbZ"
      },
      "source": [
        "from bs4 import BeautifulSoup\n",
        "soup = BeautifulSoup(html_doc, 'html.parser')\n",
        "\n",
        "print(soup.prettify())"
      ],
      "execution_count": null,
      "outputs": []
    }
  ]
}