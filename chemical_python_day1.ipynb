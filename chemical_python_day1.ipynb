{
  "nbformat": 4,
  "nbformat_minor": 0,
  "metadata": {
    "colab": {
      "name": "chemical_python_day1.ipynb",
      "provenance": [],
      "collapsed_sections": [],
      "authorship_tag": "ABX9TyOAP/LZJK6JZpi9cULVEaq7",
      "include_colab_link": true
    },
    "kernelspec": {
      "name": "python3",
      "display_name": "Python 3"
    },
    "language_info": {
      "name": "python"
    }
  },
  "cells": [
    {
      "cell_type": "markdown",
      "metadata": {
        "id": "view-in-github",
        "colab_type": "text"
      },
      "source": [
        "<a href=\"https://colab.research.google.com/github/jiujitsuhyeon/kitty/blob/main/chemical_python_day1.ipynb\" target=\"_parent\"><img src=\"https://colab.research.google.com/assets/colab-badge.svg\" alt=\"Open In Colab\"/></a>"
      ]
    },
    {
      "cell_type": "code",
      "metadata": {
        "colab": {
          "base_uri": "https://localhost:8080/"
        },
        "id": "2vr_vAbsSJty",
        "outputId": "69d9840c-3fc3-491f-8605-42e24c58ea47"
      },
      "source": [
        "import numpy as np\n",
        "np.pi"
      ],
      "execution_count": null,
      "outputs": [
        {
          "output_type": "execute_result",
          "data": {
            "text/plain": [
              "3.141592653589793"
            ]
          },
          "metadata": {
            "tags": []
          },
          "execution_count": 2
        }
      ]
    },
    {
      "cell_type": "code",
      "metadata": {
        "colab": {
          "base_uri": "https://localhost:8080/"
        },
        "id": "Tiwe8gruSSbP",
        "outputId": "3cb48979-7ded-4a5b-efbf-34ae86192bbd"
      },
      "source": [
        "np.sin(np.pi)"
      ],
      "execution_count": null,
      "outputs": [
        {
          "output_type": "execute_result",
          "data": {
            "text/plain": [
              "1.2246467991473532e-16"
            ]
          },
          "metadata": {
            "tags": []
          },
          "execution_count": 4
        }
      ]
    },
    {
      "cell_type": "code",
      "metadata": {
        "colab": {
          "base_uri": "https://localhost:8080/"
        },
        "id": "FVhRZ3GASVJm",
        "outputId": "65d6fa05-ab60-40d1-e3be-483eecbaa97e"
      },
      "source": [
        "np.sin(np.pi/2)"
      ],
      "execution_count": null,
      "outputs": [
        {
          "output_type": "execute_result",
          "data": {
            "text/plain": [
              "1.0"
            ]
          },
          "metadata": {
            "tags": []
          },
          "execution_count": 5
        }
      ]
    },
    {
      "cell_type": "code",
      "metadata": {
        "colab": {
          "base_uri": "https://localhost:8080/"
        },
        "id": "J4JIbqwFSXeo",
        "outputId": "5c31b4d6-826a-4a40-b13a-869ab495f874"
      },
      "source": [
        "np.e"
      ],
      "execution_count": null,
      "outputs": [
        {
          "output_type": "execute_result",
          "data": {
            "text/plain": [
              "2.718281828459045"
            ]
          },
          "metadata": {
            "tags": []
          },
          "execution_count": 6
        }
      ]
    },
    {
      "cell_type": "code",
      "metadata": {
        "colab": {
          "base_uri": "https://localhost:8080/"
        },
        "id": "3SEd4RLCSYKI",
        "outputId": "2b5826b9-bc97-4398-b25f-09609a8a6bc1"
      },
      "source": [
        "np.exp(1)"
      ],
      "execution_count": null,
      "outputs": [
        {
          "output_type": "execute_result",
          "data": {
            "text/plain": [
              "2.718281828459045"
            ]
          },
          "metadata": {
            "tags": []
          },
          "execution_count": 8
        }
      ]
    },
    {
      "cell_type": "code",
      "metadata": {
        "colab": {
          "base_uri": "https://localhost:8080/"
        },
        "id": "YLHcBmoPSmSM",
        "outputId": "7fe4dbfb-08aa-45d0-f067-a8ec2361d956"
      },
      "source": [
        "np.exp(-1)"
      ],
      "execution_count": null,
      "outputs": [
        {
          "output_type": "execute_result",
          "data": {
            "text/plain": [
              "0.36787944117144233"
            ]
          },
          "metadata": {
            "tags": []
          },
          "execution_count": 9
        }
      ]
    },
    {
      "cell_type": "code",
      "metadata": {
        "colab": {
          "base_uri": "https://localhost:8080/"
        },
        "id": "aeHRyNw0SqAN",
        "outputId": "c36fedf2-ea57-4628-abec-0b49527d1ecc"
      },
      "source": [
        "np.exp(0)"
      ],
      "execution_count": null,
      "outputs": [
        {
          "output_type": "execute_result",
          "data": {
            "text/plain": [
              "1.0"
            ]
          },
          "metadata": {
            "tags": []
          },
          "execution_count": 10
        }
      ]
    },
    {
      "cell_type": "code",
      "metadata": {
        "colab": {
          "base_uri": "https://localhost:8080/"
        },
        "id": "Z_VWNVjgSrh2",
        "outputId": "9d0b7c4d-9e14-4de2-8569-67a49afd4330"
      },
      "source": [
        "np.exp(1000000)"
      ],
      "execution_count": null,
      "outputs": [
        {
          "output_type": "stream",
          "text": [
            "/usr/local/lib/python3.7/dist-packages/ipykernel_launcher.py:1: RuntimeWarning: overflow encountered in exp\n",
            "  \"\"\"Entry point for launching an IPython kernel.\n"
          ],
          "name": "stderr"
        },
        {
          "output_type": "execute_result",
          "data": {
            "text/plain": [
              "inf"
            ]
          },
          "metadata": {
            "tags": []
          },
          "execution_count": 11
        }
      ]
    },
    {
      "cell_type": "code",
      "metadata": {
        "colab": {
          "base_uri": "https://localhost:8080/"
        },
        "id": "PYZ9ct1oSu4_",
        "outputId": "266a95ea-975c-4fd8-8f4e-9c55cefad40e"
      },
      "source": [
        "a = [1, 1]\n",
        "a\n",
        "b = [1, -1]\n",
        "\n",
        "np.dot(a, b)"
      ],
      "execution_count": null,
      "outputs": [
        {
          "output_type": "execute_result",
          "data": {
            "text/plain": [
              "0"
            ]
          },
          "metadata": {
            "tags": []
          },
          "execution_count": 13
        }
      ]
    },
    {
      "cell_type": "code",
      "metadata": {
        "colab": {
          "base_uri": "https://localhost:8080/"
        },
        "id": "1DBtG6AtTmGw",
        "outputId": "8ff9e6f3-3289-4ce5-bb6a-5457a28de5f4"
      },
      "source": [
        "np.cross(a, b)"
      ],
      "execution_count": null,
      "outputs": [
        {
          "output_type": "execute_result",
          "data": {
            "text/plain": [
              "array(-2)"
            ]
          },
          "metadata": {
            "tags": []
          },
          "execution_count": 14
        }
      ]
    },
    {
      "cell_type": "code",
      "metadata": {
        "colab": {
          "base_uri": "https://localhost:8080/"
        },
        "id": "rrJ9eYySTtYK",
        "outputId": "355a8bfc-88da-48f3-b2a4-29eedad18380"
      },
      "source": [
        "x = [1, 1, 0]\n",
        "y = [1, -1, 0]\n",
        "\n",
        "np.cross(x, y)"
      ],
      "execution_count": null,
      "outputs": [
        {
          "output_type": "execute_result",
          "data": {
            "text/plain": [
              "array([ 0,  0, -2])"
            ]
          },
          "metadata": {
            "tags": []
          },
          "execution_count": 16
        }
      ]
    },
    {
      "cell_type": "code",
      "metadata": {
        "colab": {
          "base_uri": "https://localhost:8080/"
        },
        "id": "U9GzmUNTTy_k",
        "outputId": "8f6ec7bb-eb7b-4bb4-c8bb-e8069a1f1cbc"
      },
      "source": [
        "alpha = 1  #parameter of decay\n",
        "time = np.arange(0, 10, 1)\n",
        "time"
      ],
      "execution_count": null,
      "outputs": [
        {
          "output_type": "execute_result",
          "data": {
            "text/plain": [
              "array([0, 1, 2, 3, 4, 5, 6, 7, 8, 9])"
            ]
          },
          "metadata": {
            "tags": []
          },
          "execution_count": 18
        }
      ]
    },
    {
      "cell_type": "code",
      "metadata": {
        "colab": {
          "base_uri": "https://localhost:8080/"
        },
        "id": "EuUx4e2ZVktG",
        "outputId": "4001d33f-6376-4ce8-b275-b7ded147d7ca"
      },
      "source": [
        "values = np.exp(-alpha * time)\n",
        "values"
      ],
      "execution_count": null,
      "outputs": [
        {
          "output_type": "execute_result",
          "data": {
            "text/plain": [
              "array([1.00000000e+00, 3.67879441e-01, 1.35335283e-01, 4.97870684e-02,\n",
              "       1.83156389e-02, 6.73794700e-03, 2.47875218e-03, 9.11881966e-04,\n",
              "       3.35462628e-04, 1.23409804e-04])"
            ]
          },
          "metadata": {
            "tags": []
          },
          "execution_count": 20
        }
      ]
    },
    {
      "cell_type": "code",
      "metadata": {
        "colab": {
          "base_uri": "https://localhost:8080/"
        },
        "id": "Y6YzgqhkVviR",
        "outputId": "fbc80557-9eb7-4266-f486-6ce005538d21"
      },
      "source": [
        "for t in time:\n",
        "  print(t)\n",
        "for v in values:\n",
        "  print(v)"
      ],
      "execution_count": null,
      "outputs": [
        {
          "output_type": "stream",
          "text": [
            "0\n",
            "1\n",
            "2\n",
            "3\n",
            "4\n",
            "5\n",
            "6\n",
            "7\n",
            "8\n",
            "9\n",
            "1.0\n",
            "0.36787944117144233\n",
            "0.1353352832366127\n",
            "0.049787068367863944\n",
            "0.01831563888873418\n",
            "0.006737946999085467\n",
            "0.0024787521766663585\n",
            "0.0009118819655545162\n",
            "0.00033546262790251185\n",
            "0.00012340980408667956\n"
          ],
          "name": "stdout"
        }
      ]
    },
    {
      "cell_type": "code",
      "metadata": {
        "colab": {
          "base_uri": "https://localhost:8080/",
          "height": 543
        },
        "id": "KRo-N33sWDQQ",
        "outputId": "8743a52b-502c-4248-cf52-ca89e08b5746"
      },
      "source": [
        "import matplotlib.pyplot as plt\n",
        "\n",
        "x = np.arange(-10, 10, 1)\n",
        "x\n",
        "y = 2*x**2 + 3\n",
        "plt.plot(x, y)\n",
        "plt.show()\n",
        "plt.plot(x, x, 'go-', label = 'linear')\n",
        "plt.plot(x, x**2, 'b^-', label = 'quadratic')\n",
        "plt.plot(x, x**3, 'rv-', label = 'cubic')\n",
        "plt.xlabel('x label')\n",
        "plt.ylabel('y label')\n",
        "plt.title(\"Simple Plot\")\n",
        "plt.legend()\n",
        "plt.show()"
      ],
      "execution_count": null,
      "outputs": [
        {
          "output_type": "display_data",
          "data": {
            "image/png": "[encoded data removed]",
            "text/plain": [
              "<Figure size 432x288 with 1 Axes>"
            ]
          },
          "metadata": {
            "tags": [],
            "needs_background": "light"
          }
        },
        {
          "output_type": "display_data",
          "data": {
            "image/png": "[encoded data removed]",
            "text/plain": [
              "<Figure size 432x288 with 1 Axes>"
            ]
          },
          "metadata": {
            "tags": [],
            "needs_background": "light"
          }
        }
      ]
    },
    {
      "cell_type": "code",
      "metadata": {
        "colab": {
          "base_uri": "https://localhost:8080/",
          "height": 295
        },
        "id": "DEDhNh-pYuNs",
        "outputId": "7e20d218-d768-4c25-e26c-92d01c0e5d9c"
      },
      "source": [
        "x = np.linspace(0, 2, 100)\n",
        "\n",
        "plt.plot(x, x, label='linear')  # Plot some data on the (implicit) axes.\n",
        "plt.plot(x, x**2, label='quadratic')  # etc.\n",
        "plt.plot(x, x**3, label='cubic')\n",
        "plt.xlabel('x label')\n",
        "plt.ylabel('y label')\n",
        "plt.title(\"Simple Plot\")\n",
        "plt.legend()\n",
        "plt.show()"
      ],
      "execution_count": null,
      "outputs": [
        {
          "output_type": "display_data",
          "data": {
            "image/png": "[encoded data removed]",
            "text/plain": [
              "<Figure size 432x288 with 1 Axes>"
            ]
          },
          "metadata": {
            "tags": [],
            "needs_background": "light"
          }
        }
      ]
    },
    {
      "cell_type": "code",
      "metadata": {
        "colab": {
          "base_uri": "https://localhost:8080/",
          "height": 295
        },
        "id": "EL_qBBbhYfcy",
        "outputId": "5e4a39a0-9e6a-4150-c6c3-77d809aa122b"
      },
      "source": [
        "x = np.linspace(-10, 10, 100)\n",
        "\n",
        "plt.plot(x, np.sin(x), label='sin(x)')  # Plot some data on the (implicit) axes.\n",
        "plt.xlabel('x label')\n",
        "plt.ylabel('y label')\n",
        "plt.title(\"Simple Plot\")\n",
        "plt.legend()\n",
        "plt.show()"
      ],
      "execution_count": null,
      "outputs": [
        {
          "output_type": "display_data",
          "data": {
            "image/png": "[encoded data removed]",
            "text/plain": [
              "<Figure size 432x288 with 1 Axes>"
            ]
          },
          "metadata": {
            "tags": [],
            "needs_background": "light"
          }
        }
      ]
    },
    {
      "cell_type": "code",
      "metadata": {
        "colab": {
          "base_uri": "https://localhost:8080/",
          "height": 279
        },
        "id": "jp6Cc9bFYI2a",
        "outputId": "1ccc6710-b358-4402-d3cd-b25f7a246735"
      },
      "source": [
        "import matplotlib.pyplot as plt\n",
        "\n",
        "fig, ax = plt.subplots()\n",
        "ax.broken_barh([(110, 30), (150, 10)], (10, 9), facecolors='tab:blue')\n",
        "ax.broken_barh([(10, 50), (100, 20), (130, 10)], (20, 9),\n",
        "               facecolors=('tab:orange', 'tab:green', 'tab:red'))\n",
        "ax.set_ylim(5, 35)\n",
        "ax.set_xlim(0, 200)\n",
        "ax.set_xlabel('seconds since start')\n",
        "ax.set_yticks([15, 25])\n",
        "ax.set_yticklabels(['Bill', 'Jim'])\n",
        "ax.grid(True)\n",
        "ax.annotate('race interrupted', (61, 25),\n",
        "            xytext=(0.8, 0.9), textcoords='axes fraction',\n",
        "            arrowprops=dict(facecolor='black', shrink=0.05),\n",
        "            fontsize=16,\n",
        "            horizontalalignment='right', verticalalignment='top')\n",
        "\n",
        "plt.show()"
      ],
      "execution_count": null,
      "outputs": [
        {
          "output_type": "display_data",
          "data": {
            "image/png": "[encoded data removed]",
            "text/plain": [
              "<Figure size 432x288 with 1 Axes>"
            ]
          },
          "metadata": {
            "tags": [],
            "needs_background": "light"
          }
        }
      ]
    },
    {
      "cell_type": "code",
      "metadata": {
        "id": "cbR6Hw9NWqMz"
      },
      "source": [
        ""
      ],
      "execution_count": null,
      "outputs": []
    },
    {
      "cell_type": "code",
      "metadata": {
        "id": "s8eY0W07WpKj"
      },
      "source": [
        ""
      ],
      "execution_count": null,
      "outputs": []
    },
    {
      "cell_type": "code",
      "metadata": {
        "id": "yfOdroHJWnPj"
      },
      "source": [
        ""
      ],
      "execution_count": null,
      "outputs": []
    },
    {
      "cell_type": "code",
      "metadata": {
        "id": "aTlMv8vCWcAf"
      },
      "source": [
        ""
      ],
      "execution_count": null,
      "outputs": []
    },
    {
      "cell_type": "code",
      "metadata": {
        "id": "nEES4yMiWaVH"
      },
      "source": [
        ""
      ],
      "execution_count": null,
      "outputs": []
    },
    {
      "cell_type": "code",
      "metadata": {
        "id": "Tpf80EGEV_EO"
      },
      "source": [
        ""
      ],
      "execution_count": null,
      "outputs": []
    },
    {
      "cell_type": "code",
      "metadata": {
        "id": "sqOpR0m_Vtxw"
      },
      "source": [
        ""
      ],
      "execution_count": null,
      "outputs": []
    },
    {
      "cell_type": "code",
      "metadata": {
        "id": "H3ubfnPEVXcS"
      },
      "source": [
        ""
      ],
      "execution_count": null,
      "outputs": []
    },
    {
      "cell_type": "code",
      "metadata": {
        "id": "BodBulQgTw2z"
      },
      "source": [
        ""
      ],
      "execution_count": null,
      "outputs": []
    },
    {
      "cell_type": "code",
      "metadata": {
        "id": "WN1tLePVTF0G"
      },
      "source": [
        ""
      ],
      "execution_count": null,
      "outputs": []
    },
    {
      "cell_type": "code",
      "metadata": {
        "id": "eg6kaWdQSbAx"
      },
      "source": [
        ""
      ],
      "execution_count": null,
      "outputs": []
    },
    {
      "cell_type": "code",
      "metadata": {
        "id": "KDu1T7szSUTn"
      },
      "source": [
        ""
      ],
      "execution_count": null,
      "outputs": []
    },
    {
      "cell_type": "code",
      "metadata": {
        "id": "S69dt8eASNc1"
      },
      "source": [
        ""
      ],
      "execution_count": null,
      "outputs": []
    }
  ]
}